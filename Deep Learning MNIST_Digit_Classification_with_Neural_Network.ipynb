{
  "nbformat": 4,
  "nbformat_minor": 0,
  "metadata": {
    "colab": {
      "provenance": []
    },
    "kernelspec": {
      "name": "python3",
      "display_name": "Python 3"
    },
    "language_info": {
      "name": "python"
    }
  },
  "cells": [
    {
      "cell_type": "code",
      "execution_count": 52,
      "metadata": {
        "id": "ueIVTWGQJoU2"
      },
      "outputs": [],
      "source": [
        "import numpy as np\n",
        "import matplotlib.pyplot as plt\n",
        "import seaborn as sns\n",
        "\n",
        "import cv2\n",
        "from google.colab.patches import cv2_imshow # this for only colab usage\n",
        "\n",
        "from PIL import Image\n",
        "\n",
        "import tensorflow as tf\n",
        "tf.random.set_seed(3)\n",
        "from tensorflow import keras\n",
        "from keras.datasets import mnist\n",
        "\n",
        "from tensorflow.math import confusion_matrix\n"
      ]
    },
    {
      "cell_type": "markdown",
      "source": [
        "**Loading The Data From keras.datasets"
      ],
      "metadata": {
        "id": "osjBTQ3iQUJM"
      }
    },
    {
      "cell_type": "code",
      "source": [
        "(X_train, Y_train), (X_test, Y_test) = mnist.load_data()\n"
      ],
      "metadata": {
        "id": "LGr9qy6eOUfh"
      },
      "execution_count": 53,
      "outputs": []
    },
    {
      "cell_type": "code",
      "source": [
        "type(X_train)"
      ],
      "metadata": {
        "id": "xYv_dtvuOUiG"
      },
      "execution_count": null,
      "outputs": []
    },
    {
      "cell_type": "code",
      "source": [
        "print(X_train.shape, Y_train.shape, X_test.shape, Y_test.shape)"
      ],
      "metadata": {
        "id": "8sv7cto1OUk6"
      },
      "execution_count": null,
      "outputs": []
    },
    {
      "cell_type": "markdown",
      "source": [
        "Trainnig data = 60,000\n",
        "\n",
        "Testing data = 10,000\n",
        "\n",
        "Images Dimensions = 28 * 28\n",
        "\n",
        "Grayscale image ---> 1 chanel"
      ],
      "metadata": {
        "id": "zu7Mx3M0Vcf_"
      }
    },
    {
      "cell_type": "code",
      "source": [
        "# printing particular image\n",
        "print(X_train[10])"
      ],
      "metadata": {
        "id": "5c9AIeqcVNBN"
      },
      "execution_count": null,
      "outputs": []
    },
    {
      "cell_type": "code",
      "source": [
        "plt.imshow(X_train[50])\n",
        "plt.show()\n",
        "print(Y_train[50])"
      ],
      "metadata": {
        "id": "rLKPdaf4OUng",
        "colab": {
          "base_uri": "https://localhost:8080/",
          "height": 879
        },
        "outputId": "56137d43-6114-4a66-d0af-496cde8d20d8"
      },
      "execution_count": 57,
      "outputs": [
        {
          "output_type": "display_data",
          "data": {
            "text/plain": [
              "<Figure size 640x480 with 1 Axes>"
            ],
            "image/png": "[encoded data removed]"
          },
          "metadata": {}
        },
        {
          "output_type": "display_data",
          "data": {
            "text/plain": [
              "<Figure size 640x480 with 1 Axes>"
            ],
            "image/png": "[encoded data removed]"
          },
          "metadata": {}
        },
        {
          "output_type": "stream",
          "name": "stdout",
          "text": [
            "3\n",
            "3\n"
          ]
        }
      ]
    },
    {
      "cell_type": "markdown",
      "source": [
        "Images Labels"
      ],
      "metadata": {
        "id": "JnIH6uIBYHO7"
      }
    },
    {
      "cell_type": "code",
      "source": [
        "# unique values\n",
        "print(np.unique(Y_train))\n",
        "print(np.unique(Y_test))\n"
      ],
      "metadata": {
        "id": "VWKS-FhmOUqc"
      },
      "execution_count": 58,
      "outputs": []
    },
    {
      "cell_type": "markdown",
      "source": [
        " - We can use this value as it is or use One Hot Encoder"
      ],
      "metadata": {
        "id": "4p7xgqk3aEeE"
      }
    },
    {
      "cell_type": "markdown",
      "source": [
        "- No need to resize the images as they are all have same dimensions (28 * 28)"
      ],
      "metadata": {
        "id": "suFY3w3eZJzb"
      }
    },
    {
      "cell_type": "markdown",
      "source": [
        "- Scaling the data"
      ],
      "metadata": {
        "id": "L3Pz2Rd3Z_-3"
      }
    },
    {
      "cell_type": "code",
      "source": [
        "X_train = X_train/255\n",
        "X_test = X_test/255\n",
        "\n",
        "# Scaling only for feauters (X_train , X_test)"
      ],
      "metadata": {
        "id": "Cfuxqbd6YM8Z"
      },
      "execution_count": 59,
      "outputs": []
    },
    {
      "cell_type": "code",
      "source": [
        "print(X_train[10])"
      ],
      "metadata": {
        "id": "5OzSKYlgYM_Q"
      },
      "execution_count": null,
      "outputs": []
    },
    {
      "cell_type": "markdown",
      "source": [
        "**Building Neural Network**"
      ],
      "metadata": {
        "id": "K9RKCjdPcxre"
      }
    },
    {
      "cell_type": "code",
      "source": [
        "# setting up the layres for Neural Network\n",
        "model = keras.Sequential([\n",
        "                          keras.layers.Flatten(input_shape=(28,28)),\n",
        "                          keras.layers.Dense(50, activation = 'relu'),\n",
        "                          keras.layers.Dense(50, activation = 'relu'),\n",
        "                          keras.layers.Dense(10, activation='sigmoid') # 10 for number of value categories (from 0 to 9) in this project\n",
        "\n",
        "])"
      ],
      "metadata": {
        "id": "T88A6ZAlcpxR"
      },
      "execution_count": null,
      "outputs": []
    },
    {
      "cell_type": "code",
      "source": [
        "# compoling the Neural Network\n",
        "model.compile(optimizer='adam',\n",
        "              loss= 'sparse_categorical_crossentropy',\n",
        "              metrics = ['accuracy'])\n"
      ],
      "metadata": {
        "id": "aP1sjMsgYNCI"
      },
      "execution_count": null,
      "outputs": []
    },
    {
      "cell_type": "code",
      "source": [
        "# training the Neural Network\n",
        "model.fit(X_train, Y_train, epochs=10 )"
      ],
      "metadata": {
        "id": "pNZS4aVfcVXJ",
        "colab": {
          "base_uri": "https://localhost:8080/"
        },
        "collapsed": true,
        "outputId": "e6f53225-33d1-4e14-8e6a-c7ec914a0cbf"
      },
      "execution_count": 63,
      "outputs": [
        {
          "output_type": "stream",
          "name": "stdout",
          "text": [
            "Epoch 1/10\n",
            "Epoch 1/10\n",
            "\u001b[1m1875/1875\u001b[0m \u001b[32m━━━━━━━━━━━━━━━━━━━━\u001b[0m\u001b[37m\u001b[0m \u001b[1m8s\u001b[0m 3ms/step - accuracy: 0.8433 - loss: 0.5294\n",
            "\u001b[1m1875/1875\u001b[0m \u001b[32m━━━━━━━━━━━━━━━━━━━━\u001b[0m\u001b[37m\u001b[0m \u001b[1m8s\u001b[0m 3ms/step - accuracy: 0.8433 - loss: 0.5294\n",
            "Epoch 2/10\n",
            "Epoch 2/10\n",
            "\u001b[1m1875/1875\u001b[0m \u001b[32m━━━━━━━━━━━━━━━━━━━━\u001b[0m\u001b[37m\u001b[0m \u001b[1m9s\u001b[0m 3ms/step - accuracy: 0.9551 - loss: 0.1514\n",
            "\u001b[1m1875/1875\u001b[0m \u001b[32m━━━━━━━━━━━━━━━━━━━━\u001b[0m\u001b[37m\u001b[0m \u001b[1m9s\u001b[0m 3ms/step - accuracy: 0.9551 - loss: 0.1514\n",
            "Epoch 3/10\n",
            "Epoch 3/10\n",
            "\u001b[1m1875/1875\u001b[0m \u001b[32m━━━━━━━━━━━━━━━━━━━━\u001b[0m\u001b[37m\u001b[0m \u001b[1m10s\u001b[0m 3ms/step - accuracy: 0.9677 - loss: 0.1087\n",
            "\u001b[1m1875/1875\u001b[0m \u001b[32m━━━━━━━━━━━━━━━━━━━━\u001b[0m\u001b[37m\u001b[0m \u001b[1m10s\u001b[0m 3ms/step - accuracy: 0.9677 - loss: 0.1087\n",
            "Epoch 4/10\n",
            "Epoch 4/10\n",
            "\u001b[1m1875/1875\u001b[0m \u001b[32m━━━━━━━━━━━━━━━━━━━━\u001b[0m\u001b[37m\u001b[0m \u001b[1m7s\u001b[0m 4ms/step - accuracy: 0.9746 - loss: 0.0857\n",
            "\u001b[1m1875/1875\u001b[0m \u001b[32m━━━━━━━━━━━━━━━━━━━━\u001b[0m\u001b[37m\u001b[0m \u001b[1m7s\u001b[0m 4ms/step - accuracy: 0.9746 - loss: 0.0857\n",
            "Epoch 5/10\n",
            "Epoch 5/10\n",
            "\u001b[1m1875/1875\u001b[0m \u001b[32m━━━━━━━━━━━━━━━━━━━━\u001b[0m\u001b[37m\u001b[0m \u001b[1m9s\u001b[0m 3ms/step - accuracy: 0.9800 - loss: 0.0695\n",
            "\u001b[1m1875/1875\u001b[0m \u001b[32m━━━━━━━━━━━━━━━━━━━━\u001b[0m\u001b[37m\u001b[0m \u001b[1m9s\u001b[0m 3ms/step - accuracy: 0.9800 - loss: 0.0695\n",
            "Epoch 6/10\n",
            "Epoch 6/10\n",
            "\u001b[1m1875/1875\u001b[0m \u001b[32m━━━━━━━━━━━━━━━━━━━━\u001b[0m\u001b[37m\u001b[0m \u001b[1m7s\u001b[0m 3ms/step - accuracy: 0.9834 - loss: 0.0574\n",
            "\u001b[1m1875/1875\u001b[0m \u001b[32m━━━━━━━━━━━━━━━━━━━━\u001b[0m\u001b[37m\u001b[0m \u001b[1m7s\u001b[0m 3ms/step - accuracy: 0.9834 - loss: 0.0574\n",
            "Epoch 7/10\n",
            "Epoch 7/10\n",
            "\u001b[1m1875/1875\u001b[0m \u001b[32m━━━━━━━━━━━━━━━━━━━━\u001b[0m\u001b[37m\u001b[0m \u001b[1m9s\u001b[0m 3ms/step - accuracy: 0.9854 - loss: 0.0489\n",
            "\u001b[1m1875/1875\u001b[0m \u001b[32m━━━━━━━━━━━━━━━━━━━━\u001b[0m\u001b[37m\u001b[0m \u001b[1m9s\u001b[0m 3ms/step - accuracy: 0.9854 - loss: 0.0489\n",
            "Epoch 8/10\n",
            "Epoch 8/10\n",
            "\u001b[1m1875/1875\u001b[0m \u001b[32m━━━━━━━━━━━━━━━━━━━━\u001b[0m\u001b[37m\u001b[0m \u001b[1m10s\u001b[0m 3ms/step - accuracy: 0.9875 - loss: 0.0420\n",
            "\u001b[1m1875/1875\u001b[0m \u001b[32m━━━━━━━━━━━━━━━━━━━━\u001b[0m\u001b[37m\u001b[0m \u001b[1m10s\u001b[0m 3ms/step - accuracy: 0.9875 - loss: 0.0420\n",
            "Epoch 9/10\n",
            "Epoch 9/10\n",
            "\u001b[1m1875/1875\u001b[0m \u001b[32m━━━━━━━━━━━━━━━━━━━━\u001b[0m\u001b[37m\u001b[0m \u001b[1m7s\u001b[0m 3ms/step - accuracy: 0.9887 - loss: 0.0372\n",
            "\u001b[1m1875/1875\u001b[0m \u001b[32m━━━━━━━━━━━━━━━━━━━━\u001b[0m\u001b[37m\u001b[0m \u001b[1m7s\u001b[0m 3ms/step - accuracy: 0.9887 - loss: 0.0372\n",
            "Epoch 10/10\n",
            "Epoch 10/10\n",
            "\u001b[1m1875/1875\u001b[0m \u001b[32m━━━━━━━━━━━━━━━━━━━━\u001b[0m\u001b[37m\u001b[0m \u001b[1m5s\u001b[0m 3ms/step - accuracy: 0.9900 - loss: 0.0332\n",
            "\u001b[1m1875/1875\u001b[0m \u001b[32m━━━━━━━━━━━━━━━━━━━━\u001b[0m\u001b[37m\u001b[0m \u001b[1m5s\u001b[0m 3ms/step - accuracy: 0.9900 - loss: 0.0332\n"
          ]
        },
        {
          "output_type": "execute_result",
          "data": {
            "text/plain": [
              "<keras.src.callbacks.history.History at 0x7bd6b39319c0>"
            ]
          },
          "metadata": {},
          "execution_count": 63
        },
        {
          "output_type": "execute_result",
          "data": {
            "text/plain": [
              "<keras.src.callbacks.history.History at 0x7bd6b39319c0>"
            ]
          },
          "metadata": {},
          "execution_count": 63
        }
      ]
    },
    {
      "cell_type": "markdown",
      "source": [
        "**Accuracy on Test Data**"
      ],
      "metadata": {
        "id": "ZRScZFOPmCUB"
      }
    },
    {
      "cell_type": "code",
      "source": [
        "loss, accuracy = model.evaluate(X_test, Y_test)\n",
        "print(f'\\033[92mColored Model Acuuracy is: {accuracy:>.2%}')"
      ],
      "metadata": {
        "id": "xtCgFdoAjKPM"
      },
      "execution_count": null,
      "outputs": []
    },
    {
      "cell_type": "code",
      "source": [
        "# Show first point in X_test\n",
        "plt.imshow(X_test[0])"
      ],
      "metadata": {
        "id": "hL67wHmUjKRV"
      },
      "execution_count": null,
      "outputs": []
    },
    {
      "cell_type": "code",
      "source": [
        "Y_pred  = model.predict(X_test)"
      ],
      "metadata": {
        "id": "P15o4BIPfxBM"
      },
      "execution_count": null,
      "outputs": []
    },
    {
      "cell_type": "code",
      "source": [
        "print(Y_pred.shape)"
      ],
      "metadata": {
        "id": "ajF0x-0ghBeN"
      },
      "execution_count": null,
      "outputs": []
    },
    {
      "cell_type": "code",
      "source": [
        "print(Y_pred[0])"
      ],
      "metadata": {
        "id": "MKVm-lp1fxD3"
      },
      "execution_count": null,
      "outputs": []
    },
    {
      "cell_type": "markdown",
      "source": [
        "model.predict() give the prediction probability for each class for that data point"
      ],
      "metadata": {
        "id": "ViUsUTdlhMTE"
      }
    },
    {
      "cell_type": "code",
      "source": [
        "# converting the prediction probability to class label\n",
        "label_first_img = np.argmax(Y_pred[0])\n",
        "print(label_first_img)"
      ],
      "metadata": {
        "id": "ieZQ3Q9NfxGq"
      },
      "execution_count": null,
      "outputs": []
    },
    {
      "cell_type": "markdown",
      "source": [
        "output 7 represent the 7th value in point prediction values"
      ],
      "metadata": {
        "id": "zUOqHCdLiZBj"
      }
    },
    {
      "cell_type": "code",
      "source": [
        "# onverting the prediction probability to class label for all test data points\n",
        "Y_pred_labels= [np.argmax(i) for i in Y_pred]\n",
        "print(Y_pred_labels)"
      ],
      "metadata": {
        "id": "1k2jaEl3fxJE"
      },
      "execution_count": null,
      "outputs": []
    },
    {
      "cell_type": "markdown",
      "source": [
        "#**Confusion Metrix**"
      ],
      "metadata": {
        "id": "PNzKqb2LkJZ0"
      }
    },
    {
      "cell_type": "code",
      "source": [
        "conf_metrix =confusion_matrix(Y_test, Y_pred_labels)\n",
        "print(conf_metrix)"
      ],
      "metadata": {
        "id": "mmRRI1dpfxOg"
      },
      "execution_count": null,
      "outputs": []
    },
    {
      "cell_type": "code",
      "source": [
        "plt.figure(figsize=(6,6))\n",
        "sns.heatmap(conf_metrix, annot=True, fmt='d', cmap='Blues')\n",
        "plt.ylabel('True label')\n",
        "plt.xlabel('Predict Label')"
      ],
      "metadata": {
        "id": "5RhwcyQ3fxRZ"
      },
      "execution_count": null,
      "outputs": []
    },
    {
      "cell_type": "markdown",
      "source": [
        "#**Building Predictive System**"
      ],
      "metadata": {
        "id": "GNTmm1yIpwNT"
      }
    },
    {
      "cell_type": "code",
      "source": [
        "input_image_path = '/content/MNIST_digit.png'"
      ],
      "metadata": {
        "id": "X-R98jZIfxTd"
      },
      "execution_count": null,
      "outputs": []
    },
    {
      "cell_type": "code",
      "source": [
        "input_image = cv2.imread(input_image_path)"
      ],
      "metadata": {
        "id": "tbLh8MuIq3Y4"
      },
      "execution_count": null,
      "outputs": []
    },
    {
      "cell_type": "code",
      "source": [
        "type(input_image)"
      ],
      "metadata": {
        "id": "mdN64wzZrpmb"
      },
      "execution_count": null,
      "outputs": []
    },
    {
      "cell_type": "code",
      "source": [
        "print(input_image)"
      ],
      "metadata": {
        "collapsed": true,
        "id": "IJp5SuN9rppS"
      },
      "execution_count": null,
      "outputs": []
    },
    {
      "cell_type": "code",
      "source": [
        "cv2_imshow(input_image)"
      ],
      "metadata": {
        "id": "wlMcRlHCrpsR",
        "colab": {
          "base_uri": "https://localhost:8080/",
          "height": 653
        },
        "outputId": "b34b4fcf-3a91-49ff-b558-5d767b31c95a"
      },
      "execution_count": 77,
      "outputs": [
        {
          "output_type": "display_data",
          "data": {
            "text/plain": [
              "<PIL.Image.Image image mode=RGB size=318x318>"
            ],
            "image/png": "[encoded data removed]",
            "image/jpeg": "[encoded data removed]"
          },
          "metadata": {}
        },
        {
          "output_type": "display_data",
          "data": {
            "text/plain": [
              "<PIL.Image.Image image mode=RGB size=318x318>"
            ],
            "image/png": "[encoded data removed]",
            "image/jpeg": "[encoded data removed]"
          },
          "metadata": {}
        }
      ]
    },
    {
      "cell_type": "code",
      "source": [
        "input_image.shape"
      ],
      "metadata": {
        "id": "SltEXZ_Vrp_8",
        "colab": {
          "base_uri": "https://localhost:8080/"
        },
        "outputId": "1073488a-08e7-4b4f-f0f9-5f1a398c6966"
      },
      "execution_count": 78,
      "outputs": [
        {
          "data": {
            "text/plain": [
              "(318, 318, 3)"
            ]
          },
          "execution_count": 78,
          "metadata": {},
          "output_type": "execute_result"
        }
      ]
    },
    {
      "cell_type": "code",
      "source": [
        "grayscale = cv2.cvtColor(input_image, cv2.COLOR_RGB2GRAY)\n",
        "grayscale"
      ],
      "metadata": {
        "id": "YujnTMU9si5v",
        "colab": {
          "base_uri": "https://localhost:8080/",
          "height": 357
        },
        "outputId": "1a0bd656-ef96-4c36-8dcf-c53e77ef500c"
      },
      "execution_count": 79,
      "outputs": [
        {
          "data": {
            "text/html": [
              "<style>\n",
              "      .ndarray_repr .ndarray_raw_data {\n",
              "        display: none;\n",
              "      }\n",
              "      .ndarray_repr.show_array .ndarray_raw_data {\n",
              "        display: block;\n",
              "      }\n",
              "      .ndarray_repr.show_array .ndarray_image_preview {\n",
              "        display: none;\n",
              "      }\n",
              "      </style>\n",
              "      <div id=\"id-f95b1688-5797-444b-a1cf-d9c6cf1b94a9\" class=\"ndarray_repr\"><pre>ndarray (318, 318) <button style=\"padding: 0 2px;\">show data</button></pre><img src=\"data:image/png;base64,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\" class=\"ndarray_image_preview\" /><pre class=\"ndarray_raw_data\">array([[0, 0, 0, ..., 0, 0, 0],\n",
              "       [0, 0, 0, ..., 0, 0, 0],\n",
              "       [0, 0, 0, ..., 0, 0, 0],\n",
              "       ...,\n",
              "       [0, 0, 0, ..., 0, 0, 0],\n",
              "       [0, 0, 0, ..., 0, 0, 0],\n",
              "       [0, 0, 0, ..., 0, 0, 0]], dtype=uint8)</pre></div><script>\n",
              "      (() => {\n",
              "      const titles = ['show data', 'hide data'];\n",
              "      let index = 0\n",
              "      document.querySelector('#id-f95b1688-5797-444b-a1cf-d9c6cf1b94a9 button').onclick = (e) => {\n",
              "        document.querySelector('#id-f95b1688-5797-444b-a1cf-d9c6cf1b94a9').classList.toggle('show_array');\n",
              "        index = (++index) % 2;\n",
              "        document.querySelector('#id-f95b1688-5797-444b-a1cf-d9c6cf1b94a9 button').textContent = titles[index];\n",
              "        e.preventDefault();\n",
              "        e.stopPropagation();\n",
              "      }\n",
              "      })();\n",
              "    </script>"
            ],
            "text/plain": [
              "array([[0, 0, 0, ..., 0, 0, 0],\n",
              "       [0, 0, 0, ..., 0, 0, 0],\n",
              "       [0, 0, 0, ..., 0, 0, 0],\n",
              "       ...,\n",
              "       [0, 0, 0, ..., 0, 0, 0],\n",
              "       [0, 0, 0, ..., 0, 0, 0],\n",
              "       [0, 0, 0, ..., 0, 0, 0]], dtype=uint8)"
            ]
          },
          "execution_count": 79,
          "metadata": {},
          "output_type": "execute_result"
        }
      ]
    },
    {
      "cell_type": "code",
      "source": [
        "grayscale.shape"
      ],
      "metadata": {
        "id": "SgVG3fqltT2O",
        "colab": {
          "base_uri": "https://localhost:8080/"
        },
        "outputId": "6e10af70-209f-44ea-8bb9-49fd5299ce72"
      },
      "execution_count": 80,
      "outputs": [
        {
          "output_type": "execute_result",
          "data": {
            "text/plain": [
              "(318, 318)"
            ]
          },
          "metadata": {},
          "execution_count": 80
        },
        {
          "output_type": "execute_result",
          "data": {
            "text/plain": [
              "(318, 318)"
            ]
          },
          "metadata": {},
          "execution_count": 80
        }
      ]
    },
    {
      "cell_type": "code",
      "source": [
        "resized_image = cv2.resize(grayscale, (28,28))"
      ],
      "metadata": {
        "id": "Z5WrMi6FtYo3"
      },
      "execution_count": 81,
      "outputs": []
    },
    {
      "cell_type": "code",
      "source": [
        "resized_image.shape"
      ],
      "metadata": {
        "id": "OnGXHlUYuQuS",
        "colab": {
          "base_uri": "https://localhost:8080/"
        },
        "outputId": "bc5833cb-3dc9-434b-f98a-a0071e017888"
      },
      "execution_count": 82,
      "outputs": [
        {
          "output_type": "execute_result",
          "data": {
            "text/plain": [
              "(28, 28)"
            ]
          },
          "metadata": {},
          "execution_count": 82
        },
        {
          "output_type": "execute_result",
          "data": {
            "text/plain": [
              "(28, 28)"
            ]
          },
          "metadata": {},
          "execution_count": 82
        }
      ]
    },
    {
      "cell_type": "code",
      "source": [
        "cv2_imshow(resized_image)"
      ],
      "metadata": {
        "id": "5pCOMXHeuQwy",
        "colab": {
          "base_uri": "https://localhost:8080/",
          "height": 73
        },
        "outputId": "d175516f-2caf-4d86-ea3c-6176004914fc"
      },
      "execution_count": 83,
      "outputs": [
        {
          "output_type": "display_data",
          "data": {
            "text/plain": [
              "<PIL.Image.Image image mode=L size=28x28>"
            ],
            "image/png": "[encoded data removed]",
            "image/jpeg": "[encoded data removed]"
          },
          "metadata": {}
        },
        {
          "output_type": "display_data",
          "data": {
            "text/plain": [
              "<PIL.Image.Image image mode=L size=28x28>"
            ],
            "image/png": "[encoded data removed]",
            "image/jpeg": "[encoded data removed]"
          },
          "metadata": {}
        }
      ]
    },
    {
      "cell_type": "code",
      "source": [
        "resized_image_scaled = resized_image/255"
      ],
      "metadata": {
        "id": "RE7Od_FguQy-"
      },
      "execution_count": 84,
      "outputs": []
    },
    {
      "cell_type": "code",
      "source": [
        "reshaped_image = np.reshape(resized_image_scaled,[1, 28, 28])"
      ],
      "metadata": {
        "id": "jhGIZu13uzlw"
      },
      "execution_count": 85,
      "outputs": []
    },
    {
      "cell_type": "code",
      "source": [
        "input_prediction = model.predict(reshaped_image)\n",
        "print(reshaped_image)"
      ],
      "metadata": {
        "collapsed": true,
        "id": "bbOi2q4Dv2Mg",
        "colab": {
          "base_uri": "https://localhost:8080/"
        },
        "outputId": "e753c4ec-a0e0-4339-b162-f7e90df1c36f"
      },
      "execution_count": 86,
      "outputs": [
        {
          "output_type": "stream",
          "name": "stdout",
          "text": [
            "\u001b[1m1/1\u001b[0m \u001b[32m━━━━━━━━━━━━━━━━━━━━\u001b[0m\u001b[37m\u001b[0m \u001b[1m0s\u001b[0m 49ms/step\n",
            "[[[0.         0.         0.         0.         0.         0.\n",
            "   0.         0.         0.         0.         0.         0.\n",
            "   0.         0.         0.         0.         0.         0.\n",
            "   0.         0.         0.         0.         0.         0.\n",
            "   0.         0.         0.         0.        ]\n",
            "  [0.         0.         0.         0.         0.         0.\n",
            "   0.         0.         0.         0.         0.         0.\n",
            "   0.         0.         0.         0.         0.         0.\n",
            "   0.         0.         0.         0.         0.         0.\n",
            "   0.         0.         0.         0.        ]\n",
            "  [0.         0.         0.         0.         0.         0.\n",
            "   0.         0.         0.         0.         0.         0.\n",
            "   0.         0.         0.         0.         0.         0.\n",
            "   0.         0.         0.         0.         0.         0.\n",
            "   0.         0.         0.         0.        ]\n",
            "  [0.         0.         0.         0.         0.         0.\n",
            "   0.         0.         0.         0.         0.         0.\n",
            "   0.         0.         0.         0.         0.         0.\n",
            "   0.         0.         0.         0.         0.         0.\n",
            "   0.         0.         0.         0.        ]\n",
            "  [0.         0.         0.         0.         0.         0.\n",
            "   0.         0.         0.         0.         0.         0.\n",
            "   0.         0.         0.         0.         0.         0.\n",
            "   0.         0.         0.         0.         0.         0.\n",
            "   0.         0.         0.         0.        ]\n",
            "  [0.         0.         0.         0.         0.         0.\n",
            "   0.         0.         0.         0.         0.         0.14901961\n",
            "   0.16862745 0.41176471 1.         0.99215686 0.99215686 0.99215686\n",
            "   0.99215686 0.99215686 0.68235294 0.02352941 0.         0.\n",
            "   0.         0.         0.         0.        ]\n",
            "  [0.         0.         0.         0.         0.         0.\n",
            "   0.         0.         0.         0.16862745 0.54509804 0.87843137\n",
            "   0.88627451 0.98823529 0.99215686 0.98823529 0.98823529 0.98823529\n",
            "   0.98823529 0.98823529 0.98823529 0.61960784 0.05490196 0.\n",
            "   0.         0.         0.         0.        ]\n",
            "  [0.         0.         0.         0.         0.         0.\n",
            "   0.         0.         0.         0.69803922 0.98823529 0.98823529\n",
            "   0.98823529 0.98823529 0.99215686 0.98823529 0.98823529 0.98823529\n",
            "   0.98823529 0.98823529 0.98823529 0.98823529 0.23137255 0.\n",
            "   0.         0.         0.         0.        ]\n",
            "  [0.         0.         0.         0.         0.         0.\n",
            "   0.         0.         0.         0.42745098 0.98823529 0.98823529\n",
            "   0.90196078 0.51372549 0.52156863 0.51372549 0.51372549 0.74117647\n",
            "   0.98823529 0.98823529 0.98823529 0.98823529 0.23137255 0.\n",
            "   0.         0.         0.         0.        ]\n",
            "  [0.         0.         0.         0.         0.         0.\n",
            "   0.         0.         0.         0.01568627 0.11372549 0.11372549\n",
            "   0.09411765 0.         0.         0.         0.         0.05490196\n",
            "   0.88627451 0.98823529 0.98823529 0.6745098  0.02745098 0.\n",
            "   0.         0.         0.         0.        ]\n",
            "  [0.         0.         0.         0.         0.         0.\n",
            "   0.         0.         0.         0.         0.         0.\n",
            "   0.         0.         0.         0.         0.         0.33333333\n",
            "   0.95294118 0.98823529 0.98823529 0.56470588 0.         0.\n",
            "   0.         0.         0.         0.        ]\n",
            "  [0.         0.         0.         0.         0.         0.\n",
            "   0.         0.         0.         0.         0.         0.\n",
            "   0.         0.         0.         0.         0.34509804 0.74117647\n",
            "   0.98823529 0.98823529 0.98823529 0.05490196 0.         0.\n",
            "   0.         0.         0.         0.        ]\n",
            "  [0.         0.         0.         0.         0.         0.\n",
            "   0.         0.         0.         0.         0.         0.\n",
            "   0.         0.         0.35686275 0.82745098 0.96862745 0.98823529\n",
            "   0.98823529 0.98823529 0.8        0.03529412 0.         0.\n",
            "   0.         0.         0.         0.        ]\n",
            "  [0.         0.         0.         0.         0.         0.\n",
            "   0.         0.         0.         0.1254902  0.49019608 0.75686275\n",
            "   0.75686275 0.75686275 0.99215686 0.98823529 0.98823529 0.98823529\n",
            "   0.93333333 0.4        0.10980392 0.         0.         0.\n",
            "   0.         0.         0.         0.        ]\n",
            "  [0.         0.         0.         0.         0.         0.\n",
            "   0.         0.         0.17254902 0.87058824 0.98823529 0.98823529\n",
            "   0.98823529 0.98823529 0.99215686 0.98823529 0.98823529 0.98823529\n",
            "   0.69411765 0.         0.         0.         0.         0.\n",
            "   0.         0.         0.         0.        ]\n",
            "  [0.         0.         0.         0.         0.         0.\n",
            "   0.         0.         0.17254902 0.8745098  0.99215686 0.99215686\n",
            "   0.99215686 0.99215686 1.         0.99215686 0.99215686 0.99215686\n",
            "   0.99215686 0.28627451 0.         0.         0.         0.\n",
            "   0.         0.         0.         0.        ]\n",
            "  [0.         0.         0.         0.         0.         0.\n",
            "   0.         0.         0.         0.12156863 0.48235294 0.20392157\n",
            "   0.17254902 0.17254902 0.17254902 0.17254902 0.56078431 0.98823529\n",
            "   0.98823529 0.28627451 0.         0.         0.         0.\n",
            "   0.         0.         0.         0.        ]\n",
            "  [0.         0.         0.         0.         0.         0.\n",
            "   0.         0.         0.         0.         0.         0.\n",
            "   0.         0.         0.         0.         0.05882353 0.98823529\n",
            "   0.98823529 0.28627451 0.         0.         0.         0.\n",
            "   0.         0.         0.         0.        ]\n",
            "  [0.         0.         0.         0.         0.         0.\n",
            "   0.         0.         0.         0.         0.         0.\n",
            "   0.         0.         0.         0.         0.3372549  0.98823529\n",
            "   0.98823529 0.28627451 0.         0.         0.         0.\n",
            "   0.         0.         0.         0.        ]\n",
            "  [0.         0.         0.         0.         0.         0.\n",
            "   0.01960784 0.29411765 0.03529412 0.         0.         0.\n",
            "   0.         0.         0.         0.38039216 0.94901961 0.98823529\n",
            "   0.98823529 0.28627451 0.         0.         0.         0.\n",
            "   0.         0.         0.         0.        ]\n",
            "  [0.         0.         0.         0.         0.         0.23529412\n",
            "   0.71764706 0.98823529 0.11372549 0.         0.         0.\n",
            "   0.         0.07058824 0.36078431 0.9372549  0.98823529 0.98823529\n",
            "   0.95294118 0.25490196 0.         0.         0.         0.\n",
            "   0.         0.         0.         0.        ]\n",
            "  [0.         0.         0.         0.         0.         0.81568627\n",
            "   0.98823529 0.98823529 0.57647059 0.5254902  0.5254902  0.5254902\n",
            "   0.5254902  0.79607843 0.99215686 0.98823529 0.98823529 0.7372549\n",
            "   0.3254902  0.         0.         0.         0.         0.\n",
            "   0.         0.         0.         0.        ]\n",
            "  [0.         0.         0.         0.         0.         0.81568627\n",
            "   0.98823529 0.98823529 0.98823529 0.98823529 0.98823529 0.98823529\n",
            "   0.98823529 0.98823529 0.99215686 0.90196078 0.6        0.03137255\n",
            "   0.         0.         0.         0.         0.         0.\n",
            "   0.         0.         0.         0.        ]\n",
            "  [0.         0.         0.         0.         0.         0.18823529\n",
            "   0.61568627 0.98823529 0.98823529 0.98823529 0.98823529 0.98823529\n",
            "   0.85098039 0.81176471 0.57254902 0.17254902 0.         0.\n",
            "   0.         0.         0.         0.         0.         0.\n",
            "   0.         0.         0.         0.        ]\n",
            "  [0.         0.         0.         0.         0.         0.\n",
            "   0.02745098 0.40392157 0.92156863 0.98823529 0.6745098  0.40392157\n",
            "   0.09411765 0.         0.         0.         0.         0.\n",
            "   0.         0.         0.         0.         0.         0.\n",
            "   0.         0.         0.         0.        ]\n",
            "  [0.         0.         0.         0.         0.         0.\n",
            "   0.         0.         0.         0.         0.         0.\n",
            "   0.         0.         0.         0.         0.         0.\n",
            "   0.         0.         0.         0.         0.         0.\n",
            "   0.         0.         0.         0.        ]\n",
            "  [0.         0.         0.         0.         0.         0.\n",
            "   0.         0.         0.         0.         0.         0.\n",
            "   0.         0.         0.         0.         0.         0.\n",
            "   0.         0.         0.         0.         0.         0.\n",
            "   0.         0.         0.         0.        ]\n",
            "  [0.         0.         0.         0.         0.         0.\n",
            "   0.         0.         0.         0.         0.         0.\n",
            "   0.         0.         0.         0.         0.         0.\n",
            "   0.         0.         0.         0.         0.         0.\n",
            "   0.         0.         0.         0.        ]]]\n",
            "\u001b[1m1/1\u001b[0m \u001b[32m━━━━━━━━━━━━━━━━━━━━\u001b[0m\u001b[37m\u001b[0m \u001b[1m0s\u001b[0m 49ms/step\n",
            "[[[0.         0.         0.         0.         0.         0.\n",
            "   0.         0.         0.         0.         0.         0.\n",
            "   0.         0.         0.         0.         0.         0.\n",
            "   0.         0.         0.         0.         0.         0.\n",
            "   0.         0.         0.         0.        ]\n",
            "  [0.         0.         0.         0.         0.         0.\n",
            "   0.         0.         0.         0.         0.         0.\n",
            "   0.         0.         0.         0.         0.         0.\n",
            "   0.         0.         0.         0.         0.         0.\n",
            "   0.         0.         0.         0.        ]\n",
            "  [0.         0.         0.         0.         0.         0.\n",
            "   0.         0.         0.         0.         0.         0.\n",
            "   0.         0.         0.         0.         0.         0.\n",
            "   0.         0.         0.         0.         0.         0.\n",
            "   0.         0.         0.         0.        ]\n",
            "  [0.         0.         0.         0.         0.         0.\n",
            "   0.         0.         0.         0.         0.         0.\n",
            "   0.         0.         0.         0.         0.         0.\n",
            "   0.         0.         0.         0.         0.         0.\n",
            "   0.         0.         0.         0.        ]\n",
            "  [0.         0.         0.         0.         0.         0.\n",
            "   0.         0.         0.         0.         0.         0.\n",
            "   0.         0.         0.         0.         0.         0.\n",
            "   0.         0.         0.         0.         0.         0.\n",
            "   0.         0.         0.         0.        ]\n",
            "  [0.         0.         0.         0.         0.         0.\n",
            "   0.         0.         0.         0.         0.         0.14901961\n",
            "   0.16862745 0.41176471 1.         0.99215686 0.99215686 0.99215686\n",
            "   0.99215686 0.99215686 0.68235294 0.02352941 0.         0.\n",
            "   0.         0.         0.         0.        ]\n",
            "  [0.         0.         0.         0.         0.         0.\n",
            "   0.         0.         0.         0.16862745 0.54509804 0.87843137\n",
            "   0.88627451 0.98823529 0.99215686 0.98823529 0.98823529 0.98823529\n",
            "   0.98823529 0.98823529 0.98823529 0.61960784 0.05490196 0.\n",
            "   0.         0.         0.         0.        ]\n",
            "  [0.         0.         0.         0.         0.         0.\n",
            "   0.         0.         0.         0.69803922 0.98823529 0.98823529\n",
            "   0.98823529 0.98823529 0.99215686 0.98823529 0.98823529 0.98823529\n",
            "   0.98823529 0.98823529 0.98823529 0.98823529 0.23137255 0.\n",
            "   0.         0.         0.         0.        ]\n",
            "  [0.         0.         0.         0.         0.         0.\n",
            "   0.         0.         0.         0.42745098 0.98823529 0.98823529\n",
            "   0.90196078 0.51372549 0.52156863 0.51372549 0.51372549 0.74117647\n",
            "   0.98823529 0.98823529 0.98823529 0.98823529 0.23137255 0.\n",
            "   0.         0.         0.         0.        ]\n",
            "  [0.         0.         0.         0.         0.         0.\n",
            "   0.         0.         0.         0.01568627 0.11372549 0.11372549\n",
            "   0.09411765 0.         0.         0.         0.         0.05490196\n",
            "   0.88627451 0.98823529 0.98823529 0.6745098  0.02745098 0.\n",
            "   0.         0.         0.         0.        ]\n",
            "  [0.         0.         0.         0.         0.         0.\n",
            "   0.         0.         0.         0.         0.         0.\n",
            "   0.         0.         0.         0.         0.         0.33333333\n",
            "   0.95294118 0.98823529 0.98823529 0.56470588 0.         0.\n",
            "   0.         0.         0.         0.        ]\n",
            "  [0.         0.         0.         0.         0.         0.\n",
            "   0.         0.         0.         0.         0.         0.\n",
            "   0.         0.         0.         0.         0.34509804 0.74117647\n",
            "   0.98823529 0.98823529 0.98823529 0.05490196 0.         0.\n",
            "   0.         0.         0.         0.        ]\n",
            "  [0.         0.         0.         0.         0.         0.\n",
            "   0.         0.         0.         0.         0.         0.\n",
            "   0.         0.         0.35686275 0.82745098 0.96862745 0.98823529\n",
            "   0.98823529 0.98823529 0.8        0.03529412 0.         0.\n",
            "   0.         0.         0.         0.        ]\n",
            "  [0.         0.         0.         0.         0.         0.\n",
            "   0.         0.         0.         0.1254902  0.49019608 0.75686275\n",
            "   0.75686275 0.75686275 0.99215686 0.98823529 0.98823529 0.98823529\n",
            "   0.93333333 0.4        0.10980392 0.         0.         0.\n",
            "   0.         0.         0.         0.        ]\n",
            "  [0.         0.         0.         0.         0.         0.\n",
            "   0.         0.         0.17254902 0.87058824 0.98823529 0.98823529\n",
            "   0.98823529 0.98823529 0.99215686 0.98823529 0.98823529 0.98823529\n",
            "   0.69411765 0.         0.         0.         0.         0.\n",
            "   0.         0.         0.         0.        ]\n",
            "  [0.         0.         0.         0.         0.         0.\n",
            "   0.         0.         0.17254902 0.8745098  0.99215686 0.99215686\n",
            "   0.99215686 0.99215686 1.         0.99215686 0.99215686 0.99215686\n",
            "   0.99215686 0.28627451 0.         0.         0.         0.\n",
            "   0.         0.         0.         0.        ]\n",
            "  [0.         0.         0.         0.         0.         0.\n",
            "   0.         0.         0.         0.12156863 0.48235294 0.20392157\n",
            "   0.17254902 0.17254902 0.17254902 0.17254902 0.56078431 0.98823529\n",
            "   0.98823529 0.28627451 0.         0.         0.         0.\n",
            "   0.         0.         0.         0.        ]\n",
            "  [0.         0.         0.         0.         0.         0.\n",
            "   0.         0.         0.         0.         0.         0.\n",
            "   0.         0.         0.         0.         0.05882353 0.98823529\n",
            "   0.98823529 0.28627451 0.         0.         0.         0.\n",
            "   0.         0.         0.         0.        ]\n",
            "  [0.         0.         0.         0.         0.         0.\n",
            "   0.         0.         0.         0.         0.         0.\n",
            "   0.         0.         0.         0.         0.3372549  0.98823529\n",
            "   0.98823529 0.28627451 0.         0.         0.         0.\n",
            "   0.         0.         0.         0.        ]\n",
            "  [0.         0.         0.         0.         0.         0.\n",
            "   0.01960784 0.29411765 0.03529412 0.         0.         0.\n",
            "   0.         0.         0.         0.38039216 0.94901961 0.98823529\n",
            "   0.98823529 0.28627451 0.         0.         0.         0.\n",
            "   0.         0.         0.         0.        ]\n",
            "  [0.         0.         0.         0.         0.         0.23529412\n",
            "   0.71764706 0.98823529 0.11372549 0.         0.         0.\n",
            "   0.         0.07058824 0.36078431 0.9372549  0.98823529 0.98823529\n",
            "   0.95294118 0.25490196 0.         0.         0.         0.\n",
            "   0.         0.         0.         0.        ]\n",
            "  [0.         0.         0.         0.         0.         0.81568627\n",
            "   0.98823529 0.98823529 0.57647059 0.5254902  0.5254902  0.5254902\n",
            "   0.5254902  0.79607843 0.99215686 0.98823529 0.98823529 0.7372549\n",
            "   0.3254902  0.         0.         0.         0.         0.\n",
            "   0.         0.         0.         0.        ]\n",
            "  [0.         0.         0.         0.         0.         0.81568627\n",
            "   0.98823529 0.98823529 0.98823529 0.98823529 0.98823529 0.98823529\n",
            "   0.98823529 0.98823529 0.99215686 0.90196078 0.6        0.03137255\n",
            "   0.         0.         0.         0.         0.         0.\n",
            "   0.         0.         0.         0.        ]\n",
            "  [0.         0.         0.         0.         0.         0.18823529\n",
            "   0.61568627 0.98823529 0.98823529 0.98823529 0.98823529 0.98823529\n",
            "   0.85098039 0.81176471 0.57254902 0.17254902 0.         0.\n",
            "   0.         0.         0.         0.         0.         0.\n",
            "   0.         0.         0.         0.        ]\n",
            "  [0.         0.         0.         0.         0.         0.\n",
            "   0.02745098 0.40392157 0.92156863 0.98823529 0.6745098  0.40392157\n",
            "   0.09411765 0.         0.         0.         0.         0.\n",
            "   0.         0.         0.         0.         0.         0.\n",
            "   0.         0.         0.         0.        ]\n",
            "  [0.         0.         0.         0.         0.         0.\n",
            "   0.         0.         0.         0.         0.         0.\n",
            "   0.         0.         0.         0.         0.         0.\n",
            "   0.         0.         0.         0.         0.         0.\n",
            "   0.         0.         0.         0.        ]\n",
            "  [0.         0.         0.         0.         0.         0.\n",
            "   0.         0.         0.         0.         0.         0.\n",
            "   0.         0.         0.         0.         0.         0.\n",
            "   0.         0.         0.         0.         0.         0.\n",
            "   0.         0.         0.         0.        ]\n",
            "  [0.         0.         0.         0.         0.         0.\n",
            "   0.         0.         0.         0.         0.         0.\n",
            "   0.         0.         0.         0.         0.         0.\n",
            "   0.         0.         0.         0.         0.         0.\n",
            "   0.         0.         0.         0.        ]]]\n"
          ]
        }
      ]
    },
    {
      "cell_type": "code",
      "source": [
        "input_shape_label = np.argmax(input_prediction)"
      ],
      "metadata": {
        "id": "uL7KoDCLv2Oz"
      },
      "execution_count": null,
      "outputs": []
    },
    {
      "cell_type": "code",
      "source": [
        "print(input_shape_label)"
      ],
      "metadata": {
        "id": "cKlg7uqiwcpI",
        "colab": {
          "base_uri": "https://localhost:8080/"
        },
        "outputId": "f6bb1b25-bde2-4d86-cf90-9da3e4a66a6b"
      },
      "execution_count": 51,
      "outputs": [
        {
          "output_type": "stream",
          "name": "stdout",
          "text": [
            "3\n",
            "3\n"
          ]
        }
      ]
    },
    {
      "cell_type": "markdown",
      "source": [
        "**Combine All in one cell for predictive system**"
      ],
      "metadata": {
        "id": "6YTwf8yew0Y-"
      }
    },
    {
      "cell_type": "code",
      "source": [
        "input_image_path = input('Image to be predicted: ')\n",
        "input_image = cv2.imread(input_image_path)\n",
        "cv2_imshow(input_image)\n",
        "\n",
        "grayscale = cv2.cvtColor(input_image, cv2.COLOR_RGB2GRAY)\n",
        "\n",
        "resized_image = cv2.resize(grayscale, (28,28))\n",
        "\n",
        "resized_image_scaled = resized_image/255 # scaled image\n",
        "\n",
        "reshaped_image = np.reshape(resized_image_scaled,[1, 28, 28])\n",
        "\n",
        "input_prediction = model.predict(reshaped_image)\n",
        "input_shape_label = np.argmax(input_prediction)\n",
        "\n",
        "\n",
        "print('The Handwriting is recognised as : ',input_shape_label)\n",
        "\n"
      ],
      "metadata": {
        "id": "oqW_JPQ9wcrx",
        "colab": {
          "base_uri": "https://localhost:8080/",
          "height": 389
        },
        "outputId": "6cf5d680-133b-49fd-abda-fa42a615dcc2"
      },
      "execution_count": 50,
      "outputs": [
        {
          "name": "stdout",
          "output_type": "stream",
          "text": [
            "Image to be predicted: /content/MNIST_digit.png\n"
          ]
        },
        {
          "output_type": "display_data",
          "data": {
            "text/plain": [
              "<PIL.Image.Image image mode=RGB size=318x318>"
            ],
            "image/png": "[encoded data removed]",
            "image/jpeg": "[encoded data removed]"
          },
          "metadata": {}
        },
        {
          "output_type": "stream",
          "name": "stdout",
          "text": [
            "\u001b[1m1/1\u001b[0m \u001b[32m━━━━━━━━━━━━━━━━━━━━\u001b[0m\u001b[37m\u001b[0m \u001b[1m0s\u001b[0m 24ms/step\n",
            "The Handwriting is recognised as :  3\n"
          ]
        }
      ]
    },
    {
      "cell_type": "code",
      "source": [],
      "metadata": {
        "id": "_I_Hq-7vwcuL"
      },
      "execution_count": null,
      "outputs": []
    }
  ]
}